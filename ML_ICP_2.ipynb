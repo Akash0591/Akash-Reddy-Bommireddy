{
  "nbformat": 4,
  "nbformat_minor": 0,
  "metadata": {
    "colab": {
      "provenance": [],
      "authorship_tag": "ABX9TyMp7h3JrZTgPwY6td1KZObW",
      "include_colab_link": true
    },
    "kernelspec": {
      "name": "python3",
      "display_name": "Python 3"
    },
    "language_info": {
      "name": "python"
    }
  },
  "cells": [
    {
      "cell_type": "markdown",
      "metadata": {
        "id": "view-in-github",
        "colab_type": "text"
      },
      "source": [
        "<a href=\"https://colab.research.google.com/github/Akash0591/Akash-Reddy-Bommireddy/blob/main/ML_ICP_2.ipynb\" target=\"_parent\"><img src=\"https://colab.research.google.com/assets/colab-badge.svg\" alt=\"Open In Colab\"/></a>"
      ]
    },
    {
      "cell_type": "code",
      "execution_count": null,
      "metadata": {
        "id": "xp6eDu6R012p",
        "outputId": "bd00a1dd-a3a0-4941-a53a-916631c072cb",
        "colab": {
          "base_uri": "https://localhost:8080/"
        }
      },
      "outputs": [
        {
          "output_type": "stream",
          "name": "stdout",
          "text": [
            "*\n",
            "**\n",
            "***\n",
            "****\n",
            "*****\n",
            "****\n",
            "***\n",
            "**\n",
            "*\n"
          ]
        }
      ],
      "source": [
        "rows = 5\n",
        "for i in range(1, rows + 1):\n",
        "    for j in range(i):\n",
        "        print(\"*\", end=\"\")\n",
        "    print(\"\")\n",
        "for i in range(rows - 1, 0, -1):\n",
        "    for j in range(i):\n",
        "        print(\"*\", end=\"\")\n",
        "    print(\"\")\n"
      ]
    },
    {
      "cell_type": "code",
      "source": [
        "my_list = [10, 20, 30, 40, 50, 60, 70, 80, 90, 100]\n",
        "for i in range(len(my_list)):\n",
        "    if (i + 1) % 2 != 0:\n",
        "        print(my_list[i])"
      ],
      "metadata": {
        "id": "K9Tlkb5s04Mw",
        "colab": {
          "base_uri": "https://localhost:8080/"
        },
        "outputId": "0f3e17ee-cf25-4a83-c9a0-78bd80f3338a"
      },
      "execution_count": 1,
      "outputs": [
        {
          "output_type": "stream",
          "name": "stdout",
          "text": [
            "10\n",
            "30\n",
            "50\n",
            "70\n",
            "90\n"
          ]
        }
      ]
    },
    {
      "cell_type": "code",
      "source": [
        "x = [23, 'Python', 23.98]\n",
        "for i in range(len(x)):\n",
        "    print(x[i])\n",
        "    print(type(x[i]))"
      ],
      "metadata": {
        "colab": {
          "base_uri": "https://localhost:8080/"
        },
        "id": "vIyfvnoziZyf",
        "outputId": "289d75f4-dea2-48b7-a6e6-e6e971fb4ac6"
      },
      "execution_count": 2,
      "outputs": [
        {
          "output_type": "stream",
          "name": "stdout",
          "text": [
            "23\n",
            "<class 'int'>\n",
            "Python\n",
            "<class 'str'>\n",
            "23.98\n",
            "<class 'float'>\n"
          ]
        }
      ]
    },
    {
      "cell_type": "code",
      "source": [
        "def unique_items(input_list):\n",
        "    return list(set(input_list))\n",
        "\n",
        "sample_list = [1, 2, 3, 3, 3, 3, 4, 5]\n",
        "print(\"Sample List:\", sample_list)\n",
        "print(\"Unique List:\", unique_items(sample_list))"
      ],
      "metadata": {
        "colab": {
          "base_uri": "https://localhost:8080/"
        },
        "id": "koKJVPSUixRP",
        "outputId": "b503bae4-78d9-4965-82c3-43b2c884d9b8"
      },
      "execution_count": 3,
      "outputs": [
        {
          "output_type": "stream",
          "name": "stdout",
          "text": [
            "Sample List: [1, 2, 3, 3, 3, 3, 4, 5]\n",
            "Unique List: [1, 2, 3, 4, 5]\n"
          ]
        }
      ]
    },
    {
      "cell_type": "code",
      "source": [
        "def count_case_characters(input_string):\n",
        "    upper_count = 0\n",
        "    lower_count = 0\n",
        "    for char in input_string:\n",
        "        if char.isupper():\n",
        "            upper_count += 1\n",
        "        elif char.islower():\n",
        "            lower_count += 1\n",
        "    print(\"No. of Upper-case characters:\", upper_count)\n",
        "    print(\"No. of Lower-case Characters:\", lower_count)\n",
        "\n",
        "input_string = 'The quick Brow Fox'\n",
        "count_case_characters(input_string)"
      ],
      "metadata": {
        "colab": {
          "base_uri": "https://localhost:8080/"
        },
        "id": "sGoGortejIQA",
        "outputId": "e77e6d7f-4c96-4eef-dcda-d095a5a3c79f"
      },
      "execution_count": 4,
      "outputs": [
        {
          "output_type": "stream",
          "name": "stdout",
          "text": [
            "No. of Upper-case characters: 3\n",
            "No. of Lower-case Characters: 12\n"
          ]
        }
      ]
    },
    {
      "cell_type": "code",
      "source": [],
      "metadata": {
        "id": "OzA-SgkijYQ4"
      },
      "execution_count": null,
      "outputs": []
    }
  ]
}