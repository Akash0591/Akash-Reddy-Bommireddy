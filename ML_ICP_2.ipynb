{
  "nbformat": 4,
  "nbformat_minor": 0,
  "metadata": {
    "colab": {
      "provenance": [],
      "authorship_tag": "ABX9TyNDDIHora97BdO1clwh4Xr+",
      "include_colab_link": true
    },
    "kernelspec": {
      "name": "python3",
      "display_name": "Python 3"
    },
    "language_info": {
      "name": "python"
    }
  },
  "cells": [
    {
      "cell_type": "markdown",
      "metadata": {
        "id": "view-in-github",
        "colab_type": "text"
      },
      "source": [
        "<a href=\"https://colab.research.google.com/github/Akash0591/Akash-Reddy-Bommireddy/blob/main/ML_ICP_2.ipynb\" target=\"_parent\"><img src=\"https://colab.research.google.com/assets/colab-badge.svg\" alt=\"Open In Colab\"/></a>"
      ]
    },
    {
      "cell_type": "code",
      "execution_count": 5,
      "metadata": {
        "id": "xp6eDu6R012p",
        "outputId": "2c6f1a89-37f4-4537-d875-c25fdbc5473a",
        "colab": {
          "base_uri": "https://localhost:8080/"
        }
      },
      "outputs": [
        {
          "output_type": "stream",
          "name": "stdout",
          "text": [
            "*\n",
            "**\n",
            "***\n",
            "****\n",
            "*****\n",
            "****\n",
            "***\n",
            "**\n",
            "*\n"
          ]
        }
      ],
      "source": [
        "#1.\tUse a python code to display the following star pattern using the for loop\n",
        "rows = 5\n",
        "for i in range(1, rows + 1):\n",
        "    for j in range(i):\n",
        "        print(\"*\", end=\"\")\n",
        "    print(\"\")\n",
        "for i in range(rows - 1, 0, -1):\n",
        "    for j in range(i):\n",
        "        print(\"*\", end=\"\")\n",
        "    print(\"\")\n"
      ]
    },
    {
      "cell_type": "code",
      "source": [
        "\n",
        "my_list = [10, 20, 30, 40, 50, 60, 70, 80, 90, 100]\n",
        "\n",
        "# Loop through the list, starting from index 1 (odd index)\n",
        "for i in range(1, len(my_list), 2):\n",
        "    print(my_list[i])"
      ],
      "metadata": {
        "id": "K9Tlkb5s04Mw",
        "colab": {
          "base_uri": "https://localhost:8080/"
        },
        "outputId": "08e24bf6-ce44-4fc7-d654-601eeaa4c100"
      },
      "execution_count": 7,
      "outputs": [
        {
          "output_type": "stream",
          "name": "stdout",
          "text": [
            "20\n",
            "40\n",
            "60\n",
            "80\n",
            "100\n"
          ]
        }
      ]
    },
    {
      "cell_type": "code",
      "source": [
        "#3. Write a code that appends the type of elements from a given list\n",
        "x = [23, 'Python', 23.98]\n",
        "for i in range(len(x)):\n",
        "    print(x[i])\n",
        "    print(type(x[i]))"
      ],
      "metadata": {
        "colab": {
          "base_uri": "https://localhost:8080/"
        },
        "id": "vIyfvnoziZyf",
        "outputId": "8b284cac-ccd4-4afc-a04e-eb0496823f6c"
      },
      "execution_count": 8,
      "outputs": [
        {
          "output_type": "stream",
          "name": "stdout",
          "text": [
            "23\n",
            "<class 'int'>\n",
            "Python\n",
            "<class 'str'>\n",
            "23.98\n",
            "<class 'float'>\n"
          ]
        }
      ]
    },
    {
      "cell_type": "code",
      "source": [
        "#Write a function that takes a list and returns a new list with unique items of the first list.\n",
        "def unique_items(input_list):\n",
        "    return list(set(input_list))\n",
        "\n",
        "sample_list = [1, 2, 3, 3, 3, 3, 4, 5]\n",
        "print(\"Sample List:\", sample_list)\n",
        "print(\"Unique List:\", unique_items(sample_list))"
      ],
      "metadata": {
        "colab": {
          "base_uri": "https://localhost:8080/"
        },
        "id": "koKJVPSUixRP",
        "outputId": "b503bae4-78d9-4965-82c3-43b2c884d9b8"
      },
      "execution_count": 3,
      "outputs": [
        {
          "output_type": "stream",
          "name": "stdout",
          "text": [
            "Sample List: [1, 2, 3, 3, 3, 3, 4, 5]\n",
            "Unique List: [1, 2, 3, 4, 5]\n"
          ]
        }
      ]
    },
    {
      "cell_type": "code",
      "source": [
        "#Write a function that accepts a string and calculate the number of upper-case letters and lower-case\n",
        "def count_case_characters(input_string):\n",
        "    upper_count = 0\n",
        "    lower_count = 0\n",
        "    for char in input_string:\n",
        "        if char.isupper():\n",
        "            upper_count += 1\n",
        "        elif char.islower():\n",
        "            lower_count += 1\n",
        "    print(\"No. of Upper-case characters:\", upper_count)\n",
        "    print(\"No. of Lower-case Characters:\", lower_count)\n",
        "\n",
        "input_string = 'The quick Brow Fox'\n",
        "count_case_characters(input_string)"
      ],
      "metadata": {
        "colab": {
          "base_uri": "https://localhost:8080/"
        },
        "id": "sGoGortejIQA",
        "outputId": "e77e6d7f-4c96-4eef-dcda-d095a5a3c79f"
      },
      "execution_count": 4,
      "outputs": [
        {
          "output_type": "stream",
          "name": "stdout",
          "text": [
            "No. of Upper-case characters: 3\n",
            "No. of Lower-case Characters: 12\n"
          ]
        }
      ]
    },
    {
      "cell_type": "code",
      "source": [],
      "metadata": {
        "id": "OzA-SgkijYQ4"
      },
      "execution_count": null,
      "outputs": []
    }
  ]
}