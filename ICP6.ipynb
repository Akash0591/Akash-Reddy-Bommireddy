{
  "nbformat": 4,
  "nbformat_minor": 0,
  "metadata": {
    "colab": {
      "provenance": [],
      "authorship_tag": "ABX9TyOr7bFAGOe3QIVhiarmrhhy",
      "include_colab_link": true
    },
    "kernelspec": {
      "name": "python3",
      "display_name": "Python 3"
    },
    "language_info": {
      "name": "python"
    }
  },
  "cells": [
    {
      "cell_type": "markdown",
      "metadata": {
        "id": "view-in-github",
        "colab_type": "text"
      },
      "source": [
        "<a href=\"https://colab.research.google.com/github/Akash0591/Akash-Reddy-Bommireddy/blob/main/ICP6.ipynb\" target=\"_parent\"><img src=\"https://colab.research.google.com/assets/colab-badge.svg\" alt=\"Open In Colab\"/></a>"
      ]
    },
    {
      "cell_type": "code",
      "execution_count": 14,
      "metadata": {
        "id": "Qga2C_4O3jAw",
        "colab": {
          "base_uri": "https://localhost:8080/"
        },
        "outputId": "bcb9362a-c804-4286-b2b5-b13f34ebeafa"
      },
      "outputs": [
        {
          "output_type": "stream",
          "name": "stdout",
          "text": [
            "(28, 28)\n",
            "784\n",
            "Epoch 1/10\n",
            "235/235 [==============================] - 5s 19ms/step - loss: 0.2925 - accuracy: 0.9111 - val_loss: 0.1334 - val_accuracy: 0.9557\n",
            "Epoch 2/10\n",
            "235/235 [==============================] - 4s 17ms/step - loss: 0.0993 - accuracy: 0.9692 - val_loss: 0.1021 - val_accuracy: 0.9679\n",
            "Epoch 3/10\n",
            "235/235 [==============================] - 4s 16ms/step - loss: 0.0615 - accuracy: 0.9811 - val_loss: 0.0650 - val_accuracy: 0.9796\n",
            "Epoch 4/10\n",
            "235/235 [==============================] - 4s 18ms/step - loss: 0.0434 - accuracy: 0.9866 - val_loss: 0.1104 - val_accuracy: 0.9642\n",
            "Epoch 5/10\n",
            "235/235 [==============================] - 4s 17ms/step - loss: 0.0293 - accuracy: 0.9911 - val_loss: 0.0726 - val_accuracy: 0.9794\n",
            "Epoch 6/10\n",
            "235/235 [==============================] - 4s 17ms/step - loss: 0.0219 - accuracy: 0.9930 - val_loss: 0.0743 - val_accuracy: 0.9802\n",
            "Epoch 7/10\n",
            "235/235 [==============================] - 4s 18ms/step - loss: 0.0169 - accuracy: 0.9947 - val_loss: 0.0787 - val_accuracy: 0.9789\n",
            "Epoch 8/10\n",
            "235/235 [==============================] - 4s 17ms/step - loss: 0.0126 - accuracy: 0.9959 - val_loss: 0.0622 - val_accuracy: 0.9836\n",
            "Epoch 9/10\n",
            "235/235 [==============================] - 4s 17ms/step - loss: 0.0097 - accuracy: 0.9970 - val_loss: 0.0798 - val_accuracy: 0.9788\n",
            "Epoch 10/10\n",
            "235/235 [==============================] - 4s 18ms/step - loss: 0.0064 - accuracy: 0.9983 - val_loss: 0.0805 - val_accuracy: 0.9778\n"
          ]
        }
      ],
      "source": [
        "from keras import Sequential\n",
        "from keras.datasets import mnist\n",
        "import numpy as np\n",
        "from keras.layers import Dense\n",
        "from keras.utils import to_categorical\n",
        "\n",
        "(train_images,train_labels),(test_images, test_labels) = mnist.load_data()\n",
        "\n",
        "print(train_images.shape[1:])\n",
        "#process the data\n",
        "#1. convert each image of shape 28*28 to 784 dimensional which will be fed to the network as a single feature\n",
        "dimData = np.prod(train_images.shape[1:])\n",
        "print(dimData)\n",
        "train_data = train_images.reshape(train_images.shape[0],dimData)\n",
        "test_data = test_images.reshape(test_images.shape[0],dimData)\n",
        "\n",
        "#convert data to float and scale values between 0 and 1\n",
        "train_data = train_data.astype('float')\n",
        "test_data = test_data.astype('float')\n",
        "#scale data\n",
        "train_data /=255.0\n",
        "test_data /=255.0\n",
        "#change the labels frominteger to one-hot encoding. to_categorical is doing the same thing as LabelEncoder()\n",
        "train_labels_one_hot = to_categorical(train_labels)\n",
        "test_labels_one_hot = to_categorical(test_labels)\n",
        "\n",
        "#creating network\n",
        "model = Sequential()\n",
        "model.add(Dense(512, activation='relu', input_shape=(dimData,)))\n",
        "model.add(Dense(512, activation='relu'))\n",
        "model.add(Dense(64,activation='tanh'))\n",
        "model.add(Dense(10, activation='softmax'))\n",
        "\n",
        "model.compile(optimizer='rmsprop', loss='categorical_crossentropy', metrics=['accuracy'])\n",
        "history = model.fit(train_data, train_labels_one_hot, batch_size=256, epochs=10, verbose=1,\n",
        "                   validation_data=(test_data, test_labels_one_hot))"
      ]
    },
    {
      "cell_type": "code",
      "source": [
        "from keras import Sequential\n",
        "from keras.datasets import mnist\n",
        "import numpy as np\n",
        "from keras.layers import Dense\n",
        "from keras.utils import to_categorical\n",
        "\n",
        "(train_images,train_labels),(test_images, test_labels) = mnist.load_data()\n",
        "\n",
        "print(train_images.shape[1:])\n",
        "#process the data\n",
        "#1. convert each image of shape 28*28 to 784 dimensional which will be fed to the network as a single feature\n",
        "dimData = np.prod(train_images.shape[1:])\n",
        "print(dimData)\n",
        "train_data = train_images.reshape(train_images.shape[0],dimData)\n",
        "test_data = test_images.reshape(test_images.shape[0],dimData)\n",
        "\n",
        "#convert data to float and scale values between 0 and 1\n",
        "train_data = train_data.astype('float')\n",
        "test_data = test_data.astype('float')\n",
        "#scale data\n",
        "#train_data /=255.0\n",
        "#test_data /=255.0\n",
        "#change the labels frominteger to one-hot encoding. to_categorical is doing the same thing as LabelEncoder()\n",
        "train_labels_one_hot = to_categorical(train_labels)\n",
        "test_labels_one_hot = to_categorical(test_labels)\n",
        "\n",
        "#creating network\n",
        "model = Sequential()\n",
        "model.add(Dense(512, activation='relu', input_shape=(dimData,)))\n",
        "model.add(Dense(512, activation='relu'))\n",
        "model.add(Dense(64,activation='tanh'))\n",
        "model.add(Dense(10, activation='softmax'))\n",
        "\n",
        "model.compile(optimizer='rmsprop', loss='categorical_crossentropy', metrics=['accuracy'])\n",
        "history = model.fit(train_data, train_labels_one_hot, batch_size=256, epochs=10, verbose=1,\n",
        "                   validation_data=(test_data, test_labels_one_hot))"
      ],
      "metadata": {
        "colab": {
          "base_uri": "https://localhost:8080/"
        },
        "id": "0n3zGGNuiZf-",
        "outputId": "d477d430-561a-48cb-f506-0e9c0760b0ad"
      },
      "execution_count": 15,
      "outputs": [
        {
          "output_type": "stream",
          "name": "stdout",
          "text": [
            "(28, 28)\n",
            "784\n",
            "Epoch 1/10\n",
            "235/235 [==============================] - 4s 17ms/step - loss: 1.1448 - accuracy: 0.6437 - val_loss: 0.6512 - val_accuracy: 0.7920\n",
            "Epoch 2/10\n",
            "235/235 [==============================] - 4s 18ms/step - loss: 0.4380 - accuracy: 0.8717 - val_loss: 0.4424 - val_accuracy: 0.8746\n",
            "Epoch 3/10\n",
            "235/235 [==============================] - 4s 16ms/step - loss: 0.3710 - accuracy: 0.8894 - val_loss: 0.4042 - val_accuracy: 0.8686\n",
            "Epoch 4/10\n",
            "235/235 [==============================] - 4s 16ms/step - loss: 0.3256 - accuracy: 0.9022 - val_loss: 0.3127 - val_accuracy: 0.9072\n",
            "Epoch 5/10\n",
            "235/235 [==============================] - 4s 18ms/step - loss: 0.2982 - accuracy: 0.9118 - val_loss: 0.3033 - val_accuracy: 0.9113\n",
            "Epoch 6/10\n",
            "235/235 [==============================] - 4s 18ms/step - loss: 0.2793 - accuracy: 0.9173 - val_loss: 0.2723 - val_accuracy: 0.9204\n",
            "Epoch 7/10\n",
            "235/235 [==============================] - 4s 16ms/step - loss: 0.2648 - accuracy: 0.9215 - val_loss: 0.2387 - val_accuracy: 0.9325\n",
            "Epoch 8/10\n",
            "235/235 [==============================] - 4s 19ms/step - loss: 0.2491 - accuracy: 0.9283 - val_loss: 0.2359 - val_accuracy: 0.9307\n",
            "Epoch 9/10\n",
            "235/235 [==============================] - 4s 17ms/step - loss: 0.2337 - accuracy: 0.9318 - val_loss: 0.2564 - val_accuracy: 0.9285\n",
            "Epoch 10/10\n",
            "235/235 [==============================] - 4s 17ms/step - loss: 0.2239 - accuracy: 0.9344 - val_loss: 0.1985 - val_accuracy: 0.9431\n"
          ]
        }
      ]
    },
    {
      "cell_type": "code",
      "source": [
        "# Plot one of the images in the test data, and then do inferencing to check what is the prediction of the model on that single image.\n",
        "import matplotlib.pyplot as plt\n",
        "\n",
        "# Choose an index to plot a test image\n",
        "index = 0\n",
        "\n",
        "# Plot the selected test image\n",
        "plt.imshow(test_images[index], cmap='gray')\n",
        "plt.show()\n",
        "\n",
        "# Make a prediction on the selected test image\n",
        "image = test_data[index].reshape(1, -1)\n",
        "prediction = model.predict(image)\n",
        "predicted_class = np.argmax(prediction)\n",
        "print(f\"Predicted Class: {predicted_class}\")"
      ],
      "metadata": {
        "colab": {
          "base_uri": "https://localhost:8080/",
          "height": 465
        },
        "id": "UL45YU5Xnq_W",
        "outputId": "53157805-5813-41de-b0fc-0749e248042a"
      },
      "execution_count": 16,
      "outputs": [
        {
          "output_type": "display_data",
          "data": {
            "text/plain": [
              "<Figure size 640x480 with 1 Axes>"
            ],
            "image/png": "[encoded data removed]"
          },
          "metadata": {}
        },
        {
          "output_type": "stream",
          "name": "stdout",
          "text": [
            "1/1 [==============================] - 0s 46ms/step\n",
            "Predicted Class: 7\n"
          ]
        }
      ]
    },
    {
      "cell_type": "code",
      "source": [
        "from google.colab import drive\n",
        "drive.mount('/content/gdrive')"
      ],
      "metadata": {
        "colab": {
          "base_uri": "https://localhost:8080/"
        },
        "id": "38vCYSXIrsrN",
        "outputId": "40fc0530-0266-47f6-e2df-940b7d42dd49"
      },
      "execution_count": 17,
      "outputs": [
        {
          "output_type": "stream",
          "name": "stdout",
          "text": [
            "Mounted at /content/gdrive\n"
          ]
        }
      ]
    },
    {
      "cell_type": "code",
      "source": [
        "path_to_csv = '/content/gdrive/My Drive/diabetes(1).csv'"
      ],
      "metadata": {
        "id": "Bgb8QZcvskyK"
      },
      "execution_count": 18,
      "outputs": []
    },
    {
      "cell_type": "code",
      "source": [
        "import keras\n",
        "import pandas as pd\n",
        "from keras.models import Sequential\n",
        "from keras.layers import Dense\n",
        "\n",
        "# load dataset\n",
        "from sklearn.model_selection import train_test_split\n",
        "import numpy as np\n",
        "\n",
        "dataset = pd.read_csv(path_to_csv, header=None).values\n",
        "\n",
        "X_train, X_test, Y_train, Y_test = train_test_split(dataset[:,0:8], dataset[:,8], test_size=0.1, random_state=30)\n",
        "\n",
        "np.random.seed(155)\n",
        "\n",
        "my_first_nn = Sequential()\n",
        "my_first_nn.add(Dense(16, activation='relu', input_shape=(8,)))\n",
        "my_first_nn.add(Dense(8, activation='relu'))\n",
        "my_first_nn.add(Dense(64, activation='relu'))\n",
        "my_first_nn.add(Dense(1, activation='sigmoid'))\n",
        "\n",
        "my_first_nn.compile(loss='mean_squared_error', optimizer='adam', metrics=['accuracy'])\n",
        "my_first_nn.fit(X_train, Y_train, epochs=100, initial_epoch=0)\n",
        "\n",
        "loss, accuracy = my_first_nn.evaluate(X_test, Y_test)\n",
        "print('Loss:', loss)\n",
        "print('Accuracy:', accuracy)"
      ],
      "metadata": {
        "colab": {
          "base_uri": "https://localhost:8080/"
        },
        "id": "y1tzDXopsske",
        "outputId": "4d453146-0852-41cc-be1e-776e1777124c"
      },
      "execution_count": 22,
      "outputs": [
        {
          "output_type": "stream",
          "name": "stdout",
          "text": [
            "Epoch 1/100\n",
            "22/22 [==============================] - 1s 1ms/step - loss: 0.3605 - accuracy: 0.6136\n",
            "Epoch 2/100\n",
            "22/22 [==============================] - 0s 1ms/step - loss: 0.3497 - accuracy: 0.6498\n",
            "Epoch 3/100\n",
            "22/22 [==============================] - 0s 1ms/step - loss: 0.3493 - accuracy: 0.6498\n",
            "Epoch 4/100\n",
            "22/22 [==============================] - 0s 1ms/step - loss: 0.3486 - accuracy: 0.6512\n",
            "Epoch 5/100\n",
            "22/22 [==============================] - 0s 1ms/step - loss: 0.3485 - accuracy: 0.6512\n",
            "Epoch 6/100\n",
            "22/22 [==============================] - 0s 1ms/step - loss: 0.3483 - accuracy: 0.6512\n",
            "Epoch 7/100\n",
            "22/22 [==============================] - 0s 1ms/step - loss: 0.3485 - accuracy: 0.6498\n",
            "Epoch 8/100\n",
            "22/22 [==============================] - 0s 1ms/step - loss: 0.3481 - accuracy: 0.6512\n",
            "Epoch 9/100\n",
            "22/22 [==============================] - 0s 1ms/step - loss: 0.3482 - accuracy: 0.6512\n",
            "Epoch 10/100\n",
            "22/22 [==============================] - 0s 1ms/step - loss: 0.3481 - accuracy: 0.6512\n",
            "Epoch 11/100\n",
            "22/22 [==============================] - 0s 1ms/step - loss: 0.3480 - accuracy: 0.6512\n",
            "Epoch 12/100\n",
            "22/22 [==============================] - 0s 1ms/step - loss: 0.3483 - accuracy: 0.6512\n",
            "Epoch 13/100\n",
            "22/22 [==============================] - 0s 1ms/step - loss: 0.3486 - accuracy: 0.6512\n",
            "Epoch 14/100\n",
            "22/22 [==============================] - 0s 2ms/step - loss: 0.3503 - accuracy: 0.6483\n",
            "Epoch 15/100\n",
            "22/22 [==============================] - 0s 2ms/step - loss: 0.3485 - accuracy: 0.6498\n",
            "Epoch 16/100\n",
            "22/22 [==============================] - 0s 1ms/step - loss: 0.3481 - accuracy: 0.6512\n",
            "Epoch 17/100\n",
            "22/22 [==============================] - 0s 1ms/step - loss: 0.3481 - accuracy: 0.6512\n",
            "Epoch 18/100\n",
            "22/22 [==============================] - 0s 1ms/step - loss: 0.3480 - accuracy: 0.6527\n",
            "Epoch 19/100\n",
            "22/22 [==============================] - 0s 1ms/step - loss: 0.3480 - accuracy: 0.6512\n",
            "Epoch 20/100\n",
            "22/22 [==============================] - 0s 1ms/step - loss: 0.3480 - accuracy: 0.6512\n",
            "Epoch 21/100\n",
            "22/22 [==============================] - 0s 1ms/step - loss: 0.3477 - accuracy: 0.6512\n",
            "Epoch 22/100\n",
            "22/22 [==============================] - 0s 1ms/step - loss: 0.3191 - accuracy: 0.6411\n",
            "Epoch 23/100\n",
            "22/22 [==============================] - 0s 1ms/step - loss: 0.3396 - accuracy: 0.6541\n",
            "Epoch 24/100\n",
            "22/22 [==============================] - 0s 1ms/step - loss: 0.3128 - accuracy: 0.6454\n",
            "Epoch 25/100\n",
            "22/22 [==============================] - 0s 1ms/step - loss: 0.2921 - accuracy: 0.6671\n",
            "Epoch 26/100\n",
            "22/22 [==============================] - 0s 1ms/step - loss: 0.3039 - accuracy: 0.6295\n",
            "Epoch 27/100\n",
            "22/22 [==============================] - 0s 1ms/step - loss: 0.3035 - accuracy: 0.6483\n",
            "Epoch 28/100\n",
            "22/22 [==============================] - 0s 1ms/step - loss: 0.3066 - accuracy: 0.6425\n",
            "Epoch 29/100\n",
            "22/22 [==============================] - 0s 1ms/step - loss: 0.3057 - accuracy: 0.5904\n",
            "Epoch 30/100\n",
            "22/22 [==============================] - 0s 1ms/step - loss: 0.2646 - accuracy: 0.6411\n",
            "Epoch 31/100\n",
            "22/22 [==============================] - 0s 2ms/step - loss: 0.2267 - accuracy: 0.6802\n",
            "Epoch 32/100\n",
            "22/22 [==============================] - 0s 1ms/step - loss: 0.2511 - accuracy: 0.6585\n",
            "Epoch 33/100\n",
            "22/22 [==============================] - 0s 1ms/step - loss: 0.2824 - accuracy: 0.6512\n",
            "Epoch 34/100\n",
            "22/22 [==============================] - 0s 1ms/step - loss: 0.2191 - accuracy: 0.6932\n",
            "Epoch 35/100\n",
            "22/22 [==============================] - 0s 1ms/step - loss: 0.2196 - accuracy: 0.6874\n",
            "Epoch 36/100\n",
            "22/22 [==============================] - 0s 1ms/step - loss: 0.2120 - accuracy: 0.6990\n",
            "Epoch 37/100\n",
            "22/22 [==============================] - 0s 1ms/step - loss: 0.2094 - accuracy: 0.6946\n",
            "Epoch 38/100\n",
            "22/22 [==============================] - 0s 1ms/step - loss: 0.2082 - accuracy: 0.6975\n",
            "Epoch 39/100\n",
            "22/22 [==============================] - 0s 1ms/step - loss: 0.2021 - accuracy: 0.7120\n",
            "Epoch 40/100\n",
            "22/22 [==============================] - 0s 1ms/step - loss: 0.2028 - accuracy: 0.7106\n",
            "Epoch 41/100\n",
            "22/22 [==============================] - 0s 1ms/step - loss: 0.1940 - accuracy: 0.7135\n",
            "Epoch 42/100\n",
            "22/22 [==============================] - 0s 1ms/step - loss: 0.1893 - accuracy: 0.7120\n",
            "Epoch 43/100\n",
            "22/22 [==============================] - 0s 1ms/step - loss: 0.1976 - accuracy: 0.7221\n",
            "Epoch 44/100\n",
            "22/22 [==============================] - 0s 1ms/step - loss: 0.1903 - accuracy: 0.7381\n",
            "Epoch 45/100\n",
            "22/22 [==============================] - 0s 1ms/step - loss: 0.2008 - accuracy: 0.7019\n",
            "Epoch 46/100\n",
            "22/22 [==============================] - 0s 1ms/step - loss: 0.1989 - accuracy: 0.7221\n",
            "Epoch 47/100\n",
            "22/22 [==============================] - 0s 1ms/step - loss: 0.1984 - accuracy: 0.7192\n",
            "Epoch 48/100\n",
            "22/22 [==============================] - 0s 1ms/step - loss: 0.1913 - accuracy: 0.7294\n",
            "Epoch 49/100\n",
            "22/22 [==============================] - 0s 1ms/step - loss: 0.2110 - accuracy: 0.6932\n",
            "Epoch 50/100\n",
            "22/22 [==============================] - 0s 1ms/step - loss: 0.1979 - accuracy: 0.7207\n",
            "Epoch 51/100\n",
            "22/22 [==============================] - 0s 1ms/step - loss: 0.1912 - accuracy: 0.7207\n",
            "Epoch 52/100\n",
            "22/22 [==============================] - 0s 1ms/step - loss: 0.1912 - accuracy: 0.7149\n",
            "Epoch 53/100\n",
            "22/22 [==============================] - 0s 1ms/step - loss: 0.1939 - accuracy: 0.7120\n",
            "Epoch 54/100\n",
            "22/22 [==============================] - 0s 1ms/step - loss: 0.1845 - accuracy: 0.7192\n",
            "Epoch 55/100\n",
            "22/22 [==============================] - 0s 1ms/step - loss: 0.1786 - accuracy: 0.7540\n",
            "Epoch 56/100\n",
            "22/22 [==============================] - 0s 1ms/step - loss: 0.1856 - accuracy: 0.7265\n",
            "Epoch 57/100\n",
            "22/22 [==============================] - 0s 1ms/step - loss: 0.1799 - accuracy: 0.7410\n",
            "Epoch 58/100\n",
            "22/22 [==============================] - 0s 1ms/step - loss: 0.1905 - accuracy: 0.7236\n",
            "Epoch 59/100\n",
            "22/22 [==============================] - 0s 1ms/step - loss: 0.2028 - accuracy: 0.7033\n",
            "Epoch 60/100\n",
            "22/22 [==============================] - 0s 1ms/step - loss: 0.1916 - accuracy: 0.7164\n",
            "Epoch 61/100\n",
            "22/22 [==============================] - 0s 1ms/step - loss: 0.1810 - accuracy: 0.7294\n",
            "Epoch 62/100\n",
            "22/22 [==============================] - 0s 1ms/step - loss: 0.1786 - accuracy: 0.7323\n",
            "Epoch 63/100\n",
            "22/22 [==============================] - 0s 1ms/step - loss: 0.1835 - accuracy: 0.7207\n",
            "Epoch 64/100\n",
            "22/22 [==============================] - 0s 1ms/step - loss: 0.1870 - accuracy: 0.7135\n",
            "Epoch 65/100\n",
            "22/22 [==============================] - 0s 1ms/step - loss: 0.1830 - accuracy: 0.7135\n",
            "Epoch 66/100\n",
            "22/22 [==============================] - 0s 1ms/step - loss: 0.1732 - accuracy: 0.7583\n",
            "Epoch 67/100\n",
            "22/22 [==============================] - 0s 2ms/step - loss: 0.1827 - accuracy: 0.7424\n",
            "Epoch 68/100\n",
            "22/22 [==============================] - 0s 1ms/step - loss: 0.1757 - accuracy: 0.7540\n",
            "Epoch 69/100\n",
            "22/22 [==============================] - 0s 1ms/step - loss: 0.1797 - accuracy: 0.7424\n",
            "Epoch 70/100\n",
            "22/22 [==============================] - 0s 1ms/step - loss: 0.1745 - accuracy: 0.7482\n",
            "Epoch 71/100\n",
            "22/22 [==============================] - 0s 1ms/step - loss: 0.1812 - accuracy: 0.7366\n",
            "Epoch 72/100\n",
            "22/22 [==============================] - 0s 1ms/step - loss: 0.1753 - accuracy: 0.7395\n",
            "Epoch 73/100\n",
            "22/22 [==============================] - 0s 1ms/step - loss: 0.1724 - accuracy: 0.7424\n",
            "Epoch 74/100\n",
            "22/22 [==============================] - 0s 2ms/step - loss: 0.1760 - accuracy: 0.7467\n",
            "Epoch 75/100\n",
            "22/22 [==============================] - 0s 1ms/step - loss: 0.1781 - accuracy: 0.7352\n",
            "Epoch 76/100\n",
            "22/22 [==============================] - 0s 1ms/step - loss: 0.1713 - accuracy: 0.7598\n",
            "Epoch 77/100\n",
            "22/22 [==============================] - 0s 1ms/step - loss: 0.1821 - accuracy: 0.7366\n",
            "Epoch 78/100\n",
            "22/22 [==============================] - 0s 1ms/step - loss: 0.1716 - accuracy: 0.7525\n",
            "Epoch 79/100\n",
            "22/22 [==============================] - 0s 1ms/step - loss: 0.1728 - accuracy: 0.7352\n",
            "Epoch 80/100\n",
            "22/22 [==============================] - 0s 1ms/step - loss: 0.1674 - accuracy: 0.7540\n",
            "Epoch 81/100\n",
            "22/22 [==============================] - 0s 1ms/step - loss: 0.1755 - accuracy: 0.7424\n",
            "Epoch 82/100\n",
            "22/22 [==============================] - 0s 1ms/step - loss: 0.1639 - accuracy: 0.7656\n",
            "Epoch 83/100\n",
            "22/22 [==============================] - 0s 1ms/step - loss: 0.1702 - accuracy: 0.7381\n",
            "Epoch 84/100\n",
            "22/22 [==============================] - 0s 1ms/step - loss: 0.1683 - accuracy: 0.7453\n",
            "Epoch 85/100\n",
            "22/22 [==============================] - 0s 1ms/step - loss: 0.1667 - accuracy: 0.7598\n",
            "Epoch 86/100\n",
            "22/22 [==============================] - 0s 1ms/step - loss: 0.1718 - accuracy: 0.7525\n",
            "Epoch 87/100\n",
            "22/22 [==============================] - 0s 1ms/step - loss: 0.1713 - accuracy: 0.7540\n",
            "Epoch 88/100\n",
            "22/22 [==============================] - 0s 1ms/step - loss: 0.1761 - accuracy: 0.7395\n",
            "Epoch 89/100\n",
            "22/22 [==============================] - 0s 1ms/step - loss: 0.1719 - accuracy: 0.7612\n",
            "Epoch 90/100\n",
            "22/22 [==============================] - 0s 1ms/step - loss: 0.1723 - accuracy: 0.7453\n",
            "Epoch 91/100\n",
            "22/22 [==============================] - 0s 1ms/step - loss: 0.1702 - accuracy: 0.7482\n",
            "Epoch 92/100\n",
            "22/22 [==============================] - 0s 1ms/step - loss: 0.1916 - accuracy: 0.7106\n",
            "Epoch 93/100\n",
            "22/22 [==============================] - 0s 1ms/step - loss: 0.1772 - accuracy: 0.7612\n",
            "Epoch 94/100\n",
            "22/22 [==============================] - 0s 1ms/step - loss: 0.1676 - accuracy: 0.7554\n",
            "Epoch 95/100\n",
            "22/22 [==============================] - 0s 1ms/step - loss: 0.1675 - accuracy: 0.7540\n",
            "Epoch 96/100\n",
            "22/22 [==============================] - 0s 1ms/step - loss: 0.1652 - accuracy: 0.7438\n",
            "Epoch 97/100\n",
            "22/22 [==============================] - 0s 1ms/step - loss: 0.1640 - accuracy: 0.7685\n",
            "Epoch 98/100\n",
            "22/22 [==============================] - 0s 1ms/step - loss: 0.1647 - accuracy: 0.7641\n",
            "Epoch 99/100\n",
            "22/22 [==============================] - 0s 1ms/step - loss: 0.1719 - accuracy: 0.7554\n",
            "Epoch 100/100\n",
            "22/22 [==============================] - 0s 1ms/step - loss: 0.1681 - accuracy: 0.7395\n"
          ]
        },
        {
          "output_type": "stream",
          "name": "stderr",
          "text": [
            "WARNING:tensorflow:5 out of the last 410 calls to <function Model.make_test_function.<locals>.test_function at 0x7c2b1eacfbe0> triggered tf.function retracing. Tracing is expensive and the excessive number of tracings could be due to (1) creating @tf.function repeatedly in a loop, (2) passing tensors with different shapes, (3) passing Python objects instead of tensors. For (1), please define your @tf.function outside of the loop. For (2), @tf.function has reduce_retracing=True option that can avoid unnecessary retracing. For (3), please refer to https://www.tensorflow.org/guide/function#controlling_retracing and https://www.tensorflow.org/api_docs/python/tf/function for  more details.\n"
          ]
        },
        {
          "output_type": "stream",
          "name": "stdout",
          "text": [
            "3/3 [==============================] - 0s 5ms/step - loss: 0.1641 - accuracy: 0.7662\n",
            "Loss: 0.16405285894870758\n",
            "Accuracy: 0.7662337422370911\n"
          ]
        }
      ]
    },
    {
      "cell_type": "code",
      "source": [],
      "metadata": {
        "id": "64dDWBbOsvxu"
      },
      "execution_count": null,
      "outputs": []
    }
  ]
}