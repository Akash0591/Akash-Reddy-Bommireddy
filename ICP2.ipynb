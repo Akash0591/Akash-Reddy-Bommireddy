{
  "nbformat": 4,
  "nbformat_minor": 0,
  "metadata": {
    "colab": {
      "provenance": [],
      "authorship_tag": "ABX9TyPnuCLTfYOxltq370JtORfC",
      "include_colab_link": true
    },
    "kernelspec": {
      "name": "python3",
      "display_name": "Python 3"
    },
    "language_info": {
      "name": "python"
    }
  },
  "cells": [
    {
      "cell_type": "markdown",
      "metadata": {
        "id": "view-in-github",
        "colab_type": "text"
      },
      "source": [
        "<a href=\"https://colab.research.google.com/github/Akash0591/Akash-Reddy-Bommireddy/blob/main/ICP2.ipynb\" target=\"_parent\"><img src=\"https://colab.research.google.com/assets/colab-badge.svg\" alt=\"Open In Colab\"/></a>"
      ]
    },
    {
      "cell_type": "code",
      "source": [
        "ages = [19, 22, 19, 24, 20, 25, 26, 24, 25, 24]\n",
        "ages.sort()\n",
        "min_age = ages[0]\n",
        "max_age = ages[-1]\n",
        "ages.append(min_age)\n",
        "ages.append(max_age)\n",
        "num_of_items = len(ages)\n",
        "if num_of_items % 2 == 0:\n",
        "    first_middle_item = ages[num_of_items // 2]\n",
        "    second_middle_item = ages[num_of_items // 2 - 1]\n",
        "    median_age = (first_middle_item + second_middle_item) / 2\n",
        "else:\n",
        "    median_age = ages[num_of_items // 2]\n",
        "total_age = sum(ages)\n",
        "avg_age = total_age / num_of_items\n",
        "age_range = max_age - min_age\n",
        "print(\"Sorted ages list:\", ages)\n",
        "print(\"Min age:\", min_age)\n",
        "print(\"Max age:\", max_age)\n",
        "print(\"Median age:\", median_age)\n",
        "print(\"Average age:\", avg_age)\n",
        "print(\"Age range:\", age_range)"
      ],
      "metadata": {
        "colab": {
          "base_uri": "https://localhost:8080/"
        },
        "id": "6PZACtKkGxgz",
        "outputId": "81f8a09b-c1cd-4cec-a5af-3ef845650301"
      },
      "execution_count": 3,
      "outputs": [
        {
          "output_type": "stream",
          "name": "stdout",
          "text": [
            "Sorted ages list: [19, 19, 20, 22, 24, 24, 24, 25, 25, 26, 19, 26]\n",
            "Min age: 19\n",
            "Max age: 26\n",
            "Median age: 24.0\n",
            "Average age: 22.75\n",
            "Age range: 7\n"
          ]
        }
      ]
    },
    {
      "cell_type": "code",
      "source": [
        "dog = {}\n",
        "dog[\"name\"] = \"Tommmy\"\n",
        "dog[\"color\"] = \"brown\"\n",
        "dog[\"breed\"] = \"Laboratory\"\n",
        "dog[\"legs\"] = 4\n",
        "dog[\"age\"] = 4\n",
        "student = {}\n",
        "student[\"first_name\"] = \"Akash Reddy\"\n",
        "student[\"last_name\"] = \"Bommireddy\"\n",
        "student[\"gender\"] = \"male\"\n",
        "student[\"age\"] = 25\n",
        "student[\"marital_status\"] = \"single\"\n",
        "student[\"skills\"] = [\"python\", \"big data\", \"html\"]\n",
        "student[\"country\"] = \"USA\"\n",
        "student[\"city\"] = \"Warrensburg\"\n",
        "student[\"address\"] = \"405 Jackson\"\n",
        "print(\"The length of the student dictionary is\", len(student))\n",
        "skills = student[\"skills\"]\n",
        "print(\"The value of skills is\", skills, \"and its type is\", type(skills))\n",
        "skills.append(\"SQL\")\n",
        "print(\"The keys of the student dictionary are\", student.keys())\n",
        "print(\"The values of the student dictionary are\", student.values())\n"
      ],
      "metadata": {
        "colab": {
          "base_uri": "https://localhost:8080/"
        },
        "id": "dv5hZD6qIErU",
        "outputId": "8d9827dd-b841-46e1-b289-0acc3e5ad1f3"
      },
      "execution_count": 16,
      "outputs": [
        {
          "output_type": "stream",
          "name": "stdout",
          "text": [
            "The length of the student dictionary is 9\n",
            "The value of skills is ['python', 'big data', 'html'] and its type is <class 'list'>\n",
            "The keys of the student dictionary are dict_keys(['first_name', 'last_name', 'gender', 'age', 'marital_status', 'skills', 'country', 'city', 'address'])\n",
            "The values of the student dictionary are dict_values(['Akash Reddy', 'Bommireddy', 'male', 25, 'single', ['python', 'big data', 'html', 'SQL'], 'USA', 'Warrensburg', '405 Jackson'])\n"
          ]
        }
      ]
    },
    {
      "cell_type": "code",
      "source": [
        "it_companies = {'Facebook', 'Google', 'Microsoft', 'Apple', 'IBM', 'Oracle', 'Amazon'}\n",
        "print(len(it_companies))\n",
        "it_companies.add('Twitter')\n",
        "it_companies.update(['Netflix', 'Snapchat'])\n",
        "it_companies.remove('Oracle')\n",
        "it_companies.discard('IBM')\n",
        "A = {19, 22, 24, 20, 25, 26}\n",
        "B = {19, 22, 20, 25, 26, 24, 28, 27}\n",
        "print(A.union(B))\n",
        "print(A.intersection(B))\n",
        "print(A.issubset(B))\n",
        "print(A.isdisjoint(B))\n",
        "A.union(B)\n",
        "B.union(A)\n",
        "print(A.symmetric_difference(B))\n",
        "del A\n",
        "del B\n",
        "ages = [22, 19, 24, 25, 26, 24, 25, 24]\n",
        "age_set = set(ages)\n",
        "print(len(ages))\n",
        "print(len(age_set))"
      ],
      "metadata": {
        "colab": {
          "base_uri": "https://localhost:8080/"
        },
        "id": "a31X9-NIKgkd",
        "outputId": "34998590-6dad-45d3-c79f-8b5febe4bf76"
      },
      "execution_count": 15,
      "outputs": [
        {
          "output_type": "stream",
          "name": "stdout",
          "text": [
            "7\n",
            "{19, 20, 22, 24, 25, 26, 27, 28}\n",
            "{19, 20, 22, 24, 25, 26}\n",
            "True\n",
            "False\n",
            "{27, 28}\n",
            "8\n",
            "5\n"
          ]
        }
      ]
    },
    {
      "cell_type": "code",
      "source": [
        "class Employee:\n",
        "    employeeCount = 0\n",
        "    def __init__(self,name, family, salary, department):\n",
        "        self.name = name\n",
        "        self.family = family\n",
        "        self.salary = salary\n",
        "        self.department = department\n",
        "        Employee.employeeCount += 1\n",
        "    def getAverageSalary(self):\n",
        "        return self.salary\n",
        "    @staticmethod\n",
        "    def getEmployeeCount():\n",
        "        return Employee.employeeCount\n",
        "class FulltimeEmployee(Employee):\n",
        "    pass\n",
        "fte1 = FulltimeEmployee(\"Akash \", \"Bommi\", 40000, \"Engineering\")\n",
        "emp1 = Employee(\"Koushik\", \"Desu\", 50000, \"Marketing\")\n",
        "print(\"Average Salary:\", fte1.getAverageSalary())\n",
        "print(\"Average Salary:\", emp1.getAverageSalary())\n",
        "print(\"Total Employees:\", Employee.getEmployeeCount())"
      ],
      "metadata": {
        "colab": {
          "base_uri": "https://localhost:8080/"
        },
        "id": "SeWpLMZ7OGe7",
        "outputId": "8743d4b3-e218-46f2-8286-619b6b326383"
      },
      "execution_count": 20,
      "outputs": [
        {
          "output_type": "stream",
          "name": "stdout",
          "text": [
            "Average Salary: 40000\n",
            "Average Salary: 50000\n",
            "Total Employees: 2\n"
          ]
        }
      ]
    }
  ]
}