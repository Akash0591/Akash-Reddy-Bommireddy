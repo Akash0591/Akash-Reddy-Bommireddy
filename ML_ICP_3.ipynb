{
  "nbformat": 4,
  "nbformat_minor": 0,
  "metadata": {
    "colab": {
      "provenance": [],
      "authorship_tag": "ABX9TyM3jDYG6OP8sSZoyr2V7QFm",
      "include_colab_link": true
    },
    "kernelspec": {
      "name": "python3",
      "display_name": "Python 3"
    },
    "language_info": {
      "name": "python"
    }
  },
  "cells": [
    {
      "cell_type": "markdown",
      "metadata": {
        "id": "view-in-github",
        "colab_type": "text"
      },
      "source": [
        "<a href=\"https://colab.research.google.com/github/Akash0591/Akash-Reddy-Bommireddy/blob/main/ML_ICP_3.ipynb\" target=\"_parent\"><img src=\"https://colab.research.google.com/assets/colab-badge.svg\" alt=\"Open In Colab\"/></a>"
      ]
    },
    {
      "cell_type": "markdown",
      "source": [
        "**Part_A**"
      ],
      "metadata": {
        "id": "lI3srvOY9Y4M"
      }
    },
    {
      "cell_type": "code",
      "source": [
        "import numpy as np\n",
        "\n",
        "# 1. Create a random vector of size 15 with integers in the range 1-20\n",
        "random_vector = np.random.randint(1, 21, size=15)\n",
        "print(\"Original random vector:\", random_vector)\n",
        "\n",
        "# 2. Reshape the array to 3 by 5\n",
        "reshaped_array = random_vector.reshape(3, 5)\n",
        "print(\"\\nReshaped array (3 x 5):\\n\", reshaped_array)\n",
        "\n",
        "# 3. Print array shape\n",
        "print(\"\\nArray shape:\", reshaped_array.shape)\n",
        "\n",
        "# 4. Replace the max in each row by 0\n",
        "row_max = reshaped_array.max(axis=1, keepdims=True)\n",
        "reshaped_array = np.where(reshaped_array == row_max, 0, reshaped_array)\n",
        "print(\"\\nArray with max in each row replaced by 0:\\n\", reshaped_array)\n",
        "\n",
        "# Create a 2D array of size 4 x 3 (composed of 4-byte integer elements)\n",
        "new_array = np.random.randint(1, 101, size=(4, 3), dtype=np.int32)\n",
        "print(\"\\n2D array (4 x 3):\\n\", new_array)\n",
        "\n",
        "# Print the shape, type, and data type of the new array\n",
        "print(\"\\nShape:\", new_array.shape)\n",
        "print(\"Type:\", type(new_array))\n",
        "print(\"Data type:\", new_array.dtype)"
      ],
      "metadata": {
        "colab": {
          "base_uri": "https://localhost:8080/"
        },
        "id": "a-BVzPFG3pK2",
        "outputId": "3c383e94-c852-416f-e481-694a529dd70b"
      },
      "execution_count": 5,
      "outputs": [
        {
          "output_type": "stream",
          "name": "stdout",
          "text": [
            "Original random vector: [ 1  5  9  1  3  3  6 20  9  9  6 14  3 19 15]\n",
            "\n",
            "Reshaped array (3 x 5):\n",
            " [[ 1  5  9  1  3]\n",
            " [ 3  6 20  9  9]\n",
            " [ 6 14  3 19 15]]\n",
            "\n",
            "Array shape: (3, 5)\n",
            "\n",
            "Array with max in each row replaced by 0:\n",
            " [[ 1  5  0  1  3]\n",
            " [ 3  6  0  9  9]\n",
            " [ 6 14  3  0 15]]\n",
            "\n",
            "2D array (4 x 3):\n",
            " [[29 61 59]\n",
            " [72 39 21]\n",
            " [16 95 65]\n",
            " [27 40 33]]\n",
            "\n",
            "Shape: (4, 3)\n",
            "Type: <class 'numpy.ndarray'>\n",
            "Data type: int32\n"
          ]
        }
      ]
    },
    {
      "cell_type": "code",
      "source": [
        "import numpy as np\n",
        "\n",
        "# Given square matrix\n",
        "A = np.array([[3, -2], [1, 0]])\n",
        "\n",
        "# Compute eigenvalues and right eigenvectors\n",
        "eigenvalues, eigenvectors = np.linalg.eig(A)\n",
        "\n",
        "print(\"Matrix A:\")\n",
        "print(A)\n",
        "\n",
        "print(\"\\nEigenvalues:\")\n",
        "print(eigenvalues)\n",
        "\n",
        "print(\"\\nRight Eigenvectors:\")\n",
        "print(eigenvectors)"
      ],
      "metadata": {
        "colab": {
          "base_uri": "https://localhost:8080/"
        },
        "id": "jA-pTCv05rLN",
        "outputId": "b3baa5f1-30ab-4aeb-85fc-6ad4a789fef4"
      },
      "execution_count": 6,
      "outputs": [
        {
          "output_type": "stream",
          "name": "stdout",
          "text": [
            "Matrix A:\n",
            "[[ 3 -2]\n",
            " [ 1  0]]\n",
            "\n",
            "Eigenvalues:\n",
            "[2. 1.]\n",
            "\n",
            "Right Eigenvectors:\n",
            "[[0.89442719 0.70710678]\n",
            " [0.4472136  0.70710678]]\n"
          ]
        }
      ]
    },
    {
      "cell_type": "code",
      "source": [
        "import numpy as np\n",
        "\n",
        "# Given array\n",
        "array = np.array([[0, 1, 2], [3, 4, 5]])\n",
        "\n",
        "# Compute sum of the diagonal elements\n",
        "diagonal_sum = np.trace(array)\n",
        "\n",
        "print(\"Sum of Diagonal Elements:\", diagonal_sum)\n"
      ],
      "metadata": {
        "colab": {
          "base_uri": "https://localhost:8080/"
        },
        "id": "VU_Vd_-D6StQ",
        "outputId": "8abe615e-a0bc-4e48-f2ef-97ee2da2327f"
      },
      "execution_count": 9,
      "outputs": [
        {
          "output_type": "stream",
          "name": "stdout",
          "text": [
            "Sum of Diagonal Elements: 4\n"
          ]
        }
      ]
    },
    {
      "cell_type": "code",
      "source": [
        "import numpy as np\n",
        "\n",
        "# Original array\n",
        "arr = np.array([[1, 2],\n",
        "                [3, 4],\n",
        "                [5, 6]])\n",
        "\n",
        "print(\"Original array:\")\n",
        "print(arr)\n",
        "print(\"Shape:\", arr.shape)\n",
        "\n",
        "# Reshape to 3x2\n",
        "arr_3x2 = arr.reshape(3, 2)\n",
        "print(\"\\nReshaped to 3x2:\")\n",
        "print(arr_3x2)\n",
        "print(\"Shape:\", arr_3x2.shape)\n",
        "\n",
        "# Reshape to 2x3\n",
        "arr_2x3 = arr.reshape(2, 3)\n",
        "print(\"\\nReshaped to 2x3:\")\n",
        "print(arr_2x3)\n",
        "print(\"Shape:\", arr_2x3.shape)"
      ],
      "metadata": {
        "colab": {
          "base_uri": "https://localhost:8080/"
        },
        "id": "cAuXj7NG6an2",
        "outputId": "95573c67-010d-448d-ae33-2eb450ad6e30"
      },
      "execution_count": 10,
      "outputs": [
        {
          "output_type": "stream",
          "name": "stdout",
          "text": [
            "Original array:\n",
            "[[1 2]\n",
            " [3 4]\n",
            " [5 6]]\n",
            "Shape: (3, 2)\n",
            "\n",
            "Reshaped to 3x2:\n",
            "[[1 2]\n",
            " [3 4]\n",
            " [5 6]]\n",
            "Shape: (3, 2)\n",
            "\n",
            "Reshaped to 2x3:\n",
            "[[1 2 3]\n",
            " [4 5 6]]\n",
            "Shape: (2, 3)\n"
          ]
        }
      ]
    },
    {
      "cell_type": "markdown",
      "source": [
        "**Part_B**"
      ],
      "metadata": {
        "id": "dQMI8Ygm9TGX"
      }
    },
    {
      "cell_type": "code",
      "source": [
        "import pandas as pd\n",
        "\n",
        "# 1. Read the CSV file\n",
        "df = pd.read_csv('data.csv')\n",
        "\n",
        "# 2. Show basic statistical description\n",
        "print(\"Basic Statistical Description:\")\n",
        "print(df.describe())\n",
        "\n",
        "# 3. Check for null values\n",
        "print(\"\\nNull Values:\", df.isnull().sum())\n",
        "\n",
        "# 3.a. Replace null values with mean\n",
        "df = df.fillna(df.mean())\n",
        "\n",
        "# 4. Aggregate data for selected columns\n",
        "print(\"\\nAggregated Data:\")\n",
        "print(df[['Calories', 'Pulse']].agg(['min', 'max', 'count', 'mean']))\n",
        "\n",
        "# 5. Filter rows with calories between 500 and 1000\n",
        "print(\"\\nRows with Calories between 500 and 1000:\")\n",
        "filtered_df = df[(df['Calories'] >= 500) & (df['Calories'] <= 1000)]\n",
        "print(filtered_df)\n",
        "\n",
        "# 6. Filter rows with calories > 500 and pulse < 100\n",
        "print(\"\\nRows with Calories > 500 and Pulse < 100:\")\n",
        "filtered_df = df[(df['Calories'] > 500) & (df['Pulse'] < 100)]\n",
        "print(filtered_df)\n",
        "\n",
        "# 7. Create a new dataframe without 'Maxpulse' column\n",
        "df_modified = df.drop('Maxpulse', axis=1)\n",
        "print(\"\\ndf_modified (without 'Maxpulse' column):\")\n",
        "print(df_modified.head())\n",
        "\n",
        "# 8. Delete 'Maxpulse' column from the main dataframe\n",
        "df = df.drop('Maxpulse', axis=1)\n",
        "print(\"\\nMain dataframe (without 'Maxpulse' column):\")\n",
        "print(df.head())\n",
        "\n",
        "# 9. Convert 'Calories' column to int datatype\n",
        "df['Calories'] = df['Calories'].astype(int)\n",
        "print(\"\\nDatatype of 'Calories' column:\", df['Calories'].dtype)"
      ],
      "metadata": {
        "colab": {
          "base_uri": "https://localhost:8080/"
        },
        "id": "T3K0ZdiJ7G6m",
        "outputId": "a7ab6c1c-8627-4574-ba42-7085a27f085e"
      },
      "execution_count": 11,
      "outputs": [
        {
          "output_type": "stream",
          "name": "stdout",
          "text": [
            "Basic Statistical Description:\n",
            "         Duration       Pulse    Maxpulse     Calories\n",
            "count  169.000000  169.000000  169.000000   164.000000\n",
            "mean    63.846154  107.461538  134.047337   375.790244\n",
            "std     42.299949   14.510259   16.450434   266.379919\n",
            "min     15.000000   80.000000  100.000000    50.300000\n",
            "25%     45.000000  100.000000  124.000000   250.925000\n",
            "50%     60.000000  105.000000  131.000000   318.600000\n",
            "75%     60.000000  111.000000  141.000000   387.600000\n",
            "max    300.000000  159.000000  184.000000  1860.400000\n",
            "\n",
            "Null Values: Duration    0\n",
            "Pulse       0\n",
            "Maxpulse    0\n",
            "Calories    5\n",
            "dtype: int64\n",
            "\n",
            "Aggregated Data:\n",
            "          Calories       Pulse\n",
            "min      50.300000   80.000000\n",
            "max    1860.400000  159.000000\n",
            "count   169.000000  169.000000\n",
            "mean    375.790244  107.461538\n",
            "\n",
            "Rows with Calories between 500 and 1000:\n",
            "     Duration  Pulse  Maxpulse  Calories\n",
            "51         80    123       146     643.1\n",
            "62        160    109       135     853.0\n",
            "65        180     90       130     800.4\n",
            "66        150    105       135     873.4\n",
            "67        150    107       130     816.0\n",
            "72         90    100       127     700.0\n",
            "73        150     97       127     953.2\n",
            "75         90     98       125     563.2\n",
            "78        120    100       130     500.4\n",
            "83        120    100       130     500.0\n",
            "90        180    101       127     600.1\n",
            "99         90     93       124     604.1\n",
            "101        90     90       110     500.0\n",
            "102        90     90       100     500.0\n",
            "103        90     90       100     500.4\n",
            "106       180     90       120     800.3\n",
            "108        90     90       120     500.3\n",
            "\n",
            "Rows with Calories > 500 and Pulse < 100:\n",
            "     Duration  Pulse  Maxpulse  Calories\n",
            "65        180     90       130     800.4\n",
            "70        150     97       129    1115.0\n",
            "73        150     97       127     953.2\n",
            "75         90     98       125     563.2\n",
            "99         90     93       124     604.1\n",
            "103        90     90       100     500.4\n",
            "106       180     90       120     800.3\n",
            "108        90     90       120     500.3\n",
            "\n",
            "df_modified (without 'Maxpulse' column):\n",
            "   Duration  Pulse  Calories\n",
            "0        60    110     409.1\n",
            "1        60    117     479.0\n",
            "2        60    103     340.0\n",
            "3        45    109     282.4\n",
            "4        45    117     406.0\n",
            "\n",
            "Main dataframe (without 'Maxpulse' column):\n",
            "   Duration  Pulse  Calories\n",
            "0        60    110     409.1\n",
            "1        60    117     479.0\n",
            "2        60    103     340.0\n",
            "3        45    109     282.4\n",
            "4        45    117     406.0\n",
            "\n",
            "Datatype of 'Calories' column: int64\n"
          ]
        }
      ]
    },
    {
      "cell_type": "code",
      "source": [],
      "metadata": {
        "id": "cTw-t7H68ADp"
      },
      "execution_count": null,
      "outputs": []
    }
  ]
}