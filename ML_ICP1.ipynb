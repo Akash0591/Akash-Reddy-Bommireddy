{
  "nbformat": 4,
  "nbformat_minor": 0,
  "metadata": {
    "colab": {
      "provenance": [],
      "authorship_tag": "ABX9TyP7NMGPcTehtb5pvqvDpEKa",
      "include_colab_link": true
    },
    "kernelspec": {
      "name": "python3",
      "display_name": "Python 3"
    },
    "language_info": {
      "name": "python"
    }
  },
  "cells": [
    {
      "cell_type": "markdown",
      "metadata": {
        "id": "view-in-github",
        "colab_type": "text"
      },
      "source": [
        "<a href=\"https://colab.research.google.com/github/Akash0591/Akash-Reddy-Bommireddy/blob/main/ML_ICP1.ipynb\" target=\"_parent\"><img src=\"https://colab.research.google.com/assets/colab-badge.svg\" alt=\"Open In Colab\"/></a>"
      ]
    },
    {
      "cell_type": "code",
      "execution_count": 2,
      "metadata": {
        "colab": {
          "base_uri": "https://localhost:8080/"
        },
        "id": "racw-ZRvL_Dp",
        "outputId": "e07019fd-02a4-4dc6-ff4a-a0dadd1437f4"
      },
      "outputs": [
        {
          "output_type": "stream",
          "name": "stdout",
          "text": [
            "Sorted Ages: [19, 19, 20, 22, 24, 24, 24, 25, 25, 26]\n",
            "Min Age: 19\n",
            "Max Age: 26\n",
            "Median Age: 24.0\n",
            "Average Age: 22.75\n",
            "Age Range: 7\n"
          ]
        }
      ],
      "source": [
        "ages = [19, 22, 19, 24, 20, 25, 26, 24, 25, 24]\n",
        "\n",
        "# Sorting the list and finding the min and max age\n",
        "ages.sort()\n",
        "print(f\"Sorted Ages: {ages}\")\n",
        "min_age = ages[0]\n",
        "print(f\"Min Age: {min_age}\")\n",
        "max_age = ages[-1]\n",
        "print(f\"Max Age: {max_age}\")\n",
        "# Adding the min age and max age again to the list\n",
        "ages.extend([min_age, max_age])\n",
        "\n",
        "# Finding the median age\n",
        "n = len(ages)\n",
        "if n % 2 == 0:\n",
        "    median_age = (ages[n//2 - 1] + ages[n//2]) / 2\n",
        "else:\n",
        "    median_age = ages[n//2]\n",
        "print(f\"Median Age: {median_age}\")\n",
        "# Finding the average age\n",
        "average_age = sum(ages) / len(ages)\n",
        "print(f\"Average Age: {average_age}\")\n",
        "# Finding the range of the ages\n",
        "age_range = max_age - min_age\n",
        "print(f\"Age Range: {age_range}\")"
      ]
    },
    {
      "cell_type": "code",
      "source": [
        "# Create an empty dictionary called dog\n",
        "dog = {}\n",
        "\n",
        "# Add name, color, breed, legs, age to the dog dictionary\n",
        "dog['name'] = 'Fido'\n",
        "dog['color'] = 'Brown'\n",
        "dog['breed'] = 'Labrador'\n",
        "dog['legs'] = 4\n",
        "dog['age'] = 5\n",
        "\n",
        "# Create a student dictionary\n",
        "student = {\n",
        "    'first_name': 'John',\n",
        "    'last_name': 'Doe',\n",
        "    'gender': 'Male',\n",
        "    'age': 25,\n",
        "    'marital_status': 'Single',\n",
        "    'skills': ['Python', 'Java'],\n",
        "    'country': 'USA',\n",
        "    'city': 'Warrensburg',\n",
        "    'address': '405 jackson Street'\n",
        "}\n",
        "\n",
        "# Get the length of the student dictionary\n",
        "print(len(student))\n",
        "\n",
        "# Get the value of skills and check the data type\n",
        "skills_value = student['skills']\n",
        "print(type(skills_value))\n",
        "\n",
        "# Modify the skills values by adding one or two skills\n",
        "student['skills'].append('SQL')\n",
        "student['skills'].append('JavaScript')\n",
        "\n",
        "# Get the dictionary keys as a list\n",
        "keys_list = list(student.keys())\n",
        "print(keys_list)\n",
        "\n",
        "# Get the dictionary values as a list\n",
        "values_list = list(student.values())\n",
        "print(values_list)"
      ],
      "metadata": {
        "colab": {
          "base_uri": "https://localhost:8080/"
        },
        "id": "PflkHScyMawe",
        "outputId": "9592d884-776e-4841-a172-436f52b94c1d"
      },
      "execution_count": 17,
      "outputs": [
        {
          "output_type": "stream",
          "name": "stdout",
          "text": [
            "9\n",
            "<class 'list'>\n",
            "['first_name', 'last_name', 'gender', 'age', 'marital_status', 'skills', 'country', 'city', 'address']\n",
            "['John', 'Doe', 'Male', 25, 'Single', ['Python', 'Java', 'SQL', 'JavaScript'], 'USA', 'Warrensburg', '405 jackson Street']\n"
          ]
        }
      ]
    },
    {
      "cell_type": "code",
      "source": [
        "# Tuple containing names of siblings\n",
        "brothers = (\"Chintu\", \"Nani\")\n",
        "sisters = (\"Pranathi\", \"Divya\")\n",
        "\n",
        "# Joining brothers and sisters tuples\n",
        "siblings = brothers + sisters\n",
        "\n",
        "# Counting number of siblings\n",
        "num_siblings = len(siblings)\n",
        "\n",
        "# Adding father and mother to the siblings tuple\n",
        "family_members = siblings + (\"Venkateshwar Reddy\", \"Vasantha\")\n",
        "\n",
        "print(\"Number of siblings:\", num_siblings)\n",
        "print(\"Family members:\", family_members)\n"
      ],
      "metadata": {
        "colab": {
          "base_uri": "https://localhost:8080/"
        },
        "id": "U_hqQWPqOGSf",
        "outputId": "fde1737d-3e03-44e9-8a5a-2e3aa5e2158c"
      },
      "execution_count": 5,
      "outputs": [
        {
          "output_type": "stream",
          "name": "stdout",
          "text": [
            "Number of siblings: 4\n",
            "Family members: ('Chintu', 'Nani', 'Pranathi', 'Divya', 'Venkateshwar Reddy', 'Vasantha')\n"
          ]
        }
      ]
    },
    {
      "cell_type": "code",
      "source": [
        "it_companies = {'Facebook', 'Google', 'Microsoft', 'Apple', 'IBM', 'Oracle', 'Amazon'}\n",
        "A = {19, 22, 24, 20, 25, 26}\n",
        "B = {19, 22, 20, 25, 26, 24, 28, 27}\n",
        "age = [22, 19, 24, 25, 26, 24, 25, 24]\n",
        "\n",
        "# Find the length of the set it_companies\n",
        "print(len(it_companies))\n",
        "\n",
        "# Add 'Twitter' to it_companies\n",
        "it_companies.add('Twitter')\n",
        "\n",
        "# Insert multiple IT companies at once to the set it_companies\n",
        "it_companies.update(['LinkedIn', 'Netflix', 'Uber'])\n",
        "\n",
        "# Remove one of the companies from the set it_companies\n",
        "it_companies.remove('Amazon')\n",
        "\n",
        "# What is the difference between remove and discard\n",
        "# remove() will raise an error if the element does not exist, discard() will not raise an error\n",
        "\n",
        "# Join A and B\n",
        "result = A.union(B)\n",
        "print(result)\n",
        "\n",
        "# Find A intersection B\n",
        "intersection = A.intersection(B)\n",
        "print(intersection)\n",
        "\n",
        "# Is A subset of B\n",
        "print(A.issubset(B))\n",
        "\n",
        "# Are A and B disjoint sets\n",
        "print(A.isdisjoint(B))\n",
        "\n",
        "# Join A with B and B with A\n",
        "result1 = A.union(B)\n",
        "result2 = B.union(A)\n",
        "print(result1)\n",
        "print(result2)\n",
        "\n",
        "# What is the symmetric difference between A and B\n",
        "symmetric_difference = A.symmetric_difference(B)\n",
        "print(symmetric_difference)\n",
        "\n",
        "# Delete the sets completely\n",
        "del it_companies, A, B\n",
        "\n",
        "# Convert the ages to a set and compare the length of the list and the set\n",
        "age_set = set(age)\n",
        "print(len(age))\n",
        "print(len(age_set))"
      ],
      "metadata": {
        "colab": {
          "base_uri": "https://localhost:8080/"
        },
        "id": "WGGnUXMjOHPo",
        "outputId": "b8022689-b4de-49bf-d5a3-0c47e8bd7b1d"
      },
      "execution_count": 6,
      "outputs": [
        {
          "output_type": "stream",
          "name": "stdout",
          "text": [
            "7\n",
            "{19, 20, 22, 24, 25, 26, 27, 28}\n",
            "{19, 20, 22, 24, 25, 26}\n",
            "True\n",
            "False\n",
            "{19, 20, 22, 24, 25, 26, 27, 28}\n",
            "{19, 20, 22, 24, 25, 26, 27, 28}\n",
            "{27, 28}\n",
            "8\n",
            "5\n"
          ]
        }
      ]
    },
    {
      "cell_type": "code",
      "source": [
        "radius = float(input(\"Enter the radius of the circle in meters: \"))\n",
        "\n",
        "pi = 3.14159\n",
        "\n",
        "area_of_circle = pi * (radius ** 2)\n",
        "circum_of_circle = 2 * pi * radius\n",
        "\n",
        "print(\"The area of the circle is:\", area_of_circle, \"square meters\")\n",
        "print(\"The circumference of the circle is:\", circum_of_circle, \"meters\")"
      ],
      "metadata": {
        "colab": {
          "base_uri": "https://localhost:8080/"
        },
        "id": "8Zr6ps8dPOqQ",
        "outputId": "0de20273-180e-45e6-a9c0-34b90178087a"
      },
      "execution_count": 7,
      "outputs": [
        {
          "output_type": "stream",
          "name": "stdout",
          "text": [
            "Enter the radius of the circle in meters: 30\n",
            "The area of the circle is: 2827.431 square meters\n",
            "The circumference of the circle is: 188.4954 meters\n"
          ]
        }
      ]
    },
    {
      "cell_type": "code",
      "source": [
        "sentence = \"I am a teacher and I love to inspire and teach people\"\n",
        "words = sentence.split()\n",
        "unique_words = set(words)\n",
        "\n",
        "print(len(unique_words))"
      ],
      "metadata": {
        "colab": {
          "base_uri": "https://localhost:8080/"
        },
        "id": "i13muuSrPPTU",
        "outputId": "7f9a3021-2f4c-42fc-b5c1-b2789b375b85"
      },
      "execution_count": 8,
      "outputs": [
        {
          "output_type": "stream",
          "name": "stdout",
          "text": [
            "10\n"
          ]
        }
      ]
    },
    {
      "cell_type": "code",
      "source": [
        "print(\"Name\\tAge\\tCountry\\tCity\")\n",
        "print(\"Asabeneh\\t250\\tFinland\\tHelsinki\")"
      ],
      "metadata": {
        "colab": {
          "base_uri": "https://localhost:8080/"
        },
        "id": "sXDb9MV8Ph14",
        "outputId": "7f22f392-c63c-41af-ea39-235960f85312"
      },
      "execution_count": 13,
      "outputs": [
        {
          "output_type": "stream",
          "name": "stdout",
          "text": [
            "Name\tAge\tCountry\tCity\n",
            "Asabeneh\t250\tFinland\tHelsinki\n"
          ]
        }
      ]
    },
    {
      "cell_type": "code",
      "source": [
        "radius = 10\n",
        "area = 3.14 * radius ** 2\n",
        "print(f\"The area of a circle with radius {radius} is {area} meters square.\")"
      ],
      "metadata": {
        "colab": {
          "base_uri": "https://localhost:8080/"
        },
        "id": "sY6AB_K3PtSr",
        "outputId": "e78c3b3e-dfb7-45a6-8286-907dae0dc9b6"
      },
      "execution_count": 14,
      "outputs": [
        {
          "output_type": "stream",
          "name": "stdout",
          "text": [
            "The area of a circle with radius 10 is 314.0 meters square.\n"
          ]
        }
      ]
    },
    {
      "cell_type": "code",
      "source": [
        "# Read number of students\n",
        "N = int(input(\"Enter the number of students: \"))\n",
        "\n",
        "# Read weights of students\n",
        "weights_lbs = []\n",
        "for i in range(N):\n",
        "    weight = int(input(\"Enter weight (lbs) of student {}: \".format(i+1)))\n",
        "    weights_lbs.append(weight)\n",
        "\n",
        "# Convert weights to kilograms\n",
        "weights_kg = []\n",
        "for weight in weights_lbs:\n",
        "    kg = weight * 0.453592\n",
        "    weights_kg.append(round(kg, 2))\n",
        "\n",
        "# Print the weights in kilograms\n",
        "print(\"Weights in kilograms:\")\n",
        "print(weights_kg)"
      ],
      "metadata": {
        "colab": {
          "base_uri": "https://localhost:8080/"
        },
        "id": "PZfft-VhQGjH",
        "outputId": "f5fa540c-397b-4d36-ce9a-95f4269945c0"
      },
      "execution_count": 16,
      "outputs": [
        {
          "output_type": "stream",
          "name": "stdout",
          "text": [
            "Enter the number of students: 3\n",
            "Enter weight (lbs) of student 1: 155\n",
            "Enter weight (lbs) of student 2: 230\n",
            "Enter weight (lbs) of student 3: 122\n",
            "Weights in kilograms:\n",
            "[70.31, 104.33, 55.34]\n"
          ]
        }
      ]
    },
    {
      "cell_type": "code",
      "source": [],
      "metadata": {
        "id": "buOmPPbcQTto"
      },
      "execution_count": null,
      "outputs": []
    }
  ]
}