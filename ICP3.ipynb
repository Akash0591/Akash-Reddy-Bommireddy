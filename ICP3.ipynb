{
  "nbformat": 4,
  "nbformat_minor": 0,
  "metadata": {
    "colab": {
      "provenance": [],
      "authorship_tag": "ABX9TyMCwGFO+k0/vXlyD5r9kPFO",
      "include_colab_link": true
    },
    "kernelspec": {
      "name": "python3",
      "display_name": "Python 3"
    },
    "language_info": {
      "name": "python"
    }
  },
  "cells": [
    {
      "cell_type": "markdown",
      "metadata": {
        "id": "view-in-github",
        "colab_type": "text"
      },
      "source": [
        "<a href=\"https://colab.research.google.com/github/Akash0591/Akash-Reddy-Bommireddy/blob/main/ICP3.ipynb\" target=\"_parent\"><img src=\"https://colab.research.google.com/assets/colab-badge.svg\" alt=\"Open In Colab\"/></a>"
      ]
    },
    {
      "cell_type": "code",
      "source": [
        "import numpy as np\n",
        "\n",
        "# Create random vector of size 15 with integers from 1-20\n",
        "arr = np.random.randint(1,21,15)\n",
        "\n",
        "# Reshape to 3 x 5\n",
        "arr = arr.reshape(3,5)\n",
        "\n",
        "# Print shape\n",
        "print(\"SHAPE:-\",arr.shape)\n",
        "\n",
        "# Replace max in each row with 0\n",
        "for i in range(arr.shape[0]):\n",
        "    arr[i, arr[i,:].argmax()] = 0\n",
        "\n",
        "print(arr)"
      ],
      "metadata": {
        "colab": {
          "base_uri": "https://localhost:8080/"
        },
        "id": "pwaP_Xj2JoPW",
        "outputId": "ce7b962b-a706-4dca-e115-9dbc7dd94a15"
      },
      "execution_count": 24,
      "outputs": [
        {
          "output_type": "stream",
          "name": "stdout",
          "text": [
            "SHAPE:- (3, 5)\n",
            "[[15  9  8 15  0]\n",
            " [11  2  0 16  6]\n",
            " [19  3 12  0  6]]\n"
          ]
        }
      ]
    },
    {
      "cell_type": "code",
      "source": [
        "\n",
        "import numpy as np\n",
        "\n",
        "# Create 4x3 array of 4-byte integers\n",
        "int_array = np.empty((4, 3), dtype=np.int32)\n",
        "\n",
        "# Print array shape, type, and data type\n",
        "print(\"ARRAY SHAPE:-\",int_array.shape)\n",
        "print(\"TYPE:-\",type(int_array))\n",
        "print(\"DATA TYPE:-\",int_array.dtype)"
      ],
      "metadata": {
        "colab": {
          "base_uri": "https://localhost:8080/"
        },
        "id": "haBrNtfvJ3lm",
        "outputId": "13be3eea-136a-4c93-d7e2-cfe1bc417349"
      },
      "execution_count": 23,
      "outputs": [
        {
          "output_type": "stream",
          "name": "stdout",
          "text": [
            "ARRAY SHAPE:- (4, 3)\n",
            "TYPE:- <class 'numpy.ndarray'>\n",
            "DATA TYPE:- int32\n"
          ]
        }
      ]
    },
    {
      "cell_type": "code",
      "source": [
        "import numpy as np\n",
        "\n",
        "arr = np.array([[0, 1, 2],\n",
        "                [3, 4,5]])\n",
        "\n",
        "# Get the diagonal elements\n",
        "diagonal = np.diag(arr)\n",
        "\n",
        "# Compute sum\n",
        "sum_diagonal = np.sum(diagonal)\n",
        "\n",
        "print(\"sum of diagonals:-\",sum_diagonal)"
      ],
      "metadata": {
        "colab": {
          "base_uri": "https://localhost:8080/"
        },
        "id": "gZAQkbSXKL0w",
        "outputId": "81771fe4-9d9d-4cec-9022-bafb6364d3a8"
      },
      "execution_count": 21,
      "outputs": [
        {
          "output_type": "stream",
          "name": "stdout",
          "text": [
            "sum of diagonals:- 4\n"
          ]
        }
      ]
    },
    {
      "cell_type": "code",
      "source": [
        "import numpy as np\n",
        "\n",
        "# a. Create an array of odd and even numbers from 10 to 70\n",
        "even_nums = np.arange(10, 71, 2)\n",
        "odd_nums = np.arange(11, 70, 2)\n",
        "arr = np.concatenate([even_nums])\n",
        "arr1 = np.concatenate([odd_nums])\n",
        "print(\"even:-\",arr)\n",
        "print(\"odd:-\",arr1)\n",
        "\n",
        "# b. Perform element-wise operations on two equal sized arrays\n",
        "arr1 = np.array([1, 2, 3])\n",
        "arr2 = np.array([4, 5, 6])\n",
        "\n",
        "add = arr1 + arr2\n",
        "subtract = arr1 - arr2\n",
        "multiply = arr1 * arr2\n",
        "\n",
        "print(\"addition:-\",add)\n",
        "print(\"subtraction:-\",subtract)\n",
        "print(\"multiplication:-\",multiply)\n",
        "\n",
        "# c. Sort array by row and column\n",
        "array = np.array([[5.54, 3.38, 7.99],\n",
        "                 [3.54, 4.38, 6.99],\n",
        "                 [1.54, 2.39, 9.29]])\n",
        "\n",
        "print(\"sort by column:-\",np.sort(array, axis=0)) # Sort by column\n",
        "print(\"sort by row:-\",np.sort(array, axis=1)) # Sort by row"
      ],
      "metadata": {
        "colab": {
          "base_uri": "https://localhost:8080/"
        },
        "id": "dUebhJF4LIAl",
        "outputId": "a35fbe78-9d58-4714-8be8-84310665c764"
      },
      "execution_count": 20,
      "outputs": [
        {
          "output_type": "stream",
          "name": "stdout",
          "text": [
            "even:- [10 12 14 16 18 20 22 24 26 28 30 32 34 36 38 40 42 44 46 48 50 52 54 56\n",
            " 58 60 62 64 66 68 70]\n",
            "odd:- [11 13 15 17 19 21 23 25 27 29 31 33 35 37 39 41 43 45 47 49 51 53 55 57\n",
            " 59 61 63 65 67 69]\n",
            "addition:- [5 7 9]\n",
            "subtraction:- [-3 -3 -3]\n",
            "multiplication:- [ 4 10 18]\n",
            "sort by column:- [[1.54 2.39 6.99]\n",
            " [3.54 3.38 7.99]\n",
            " [5.54 4.38 9.29]]\n",
            "sort by row:- [[3.38 5.54 7.99]\n",
            " [3.54 4.38 6.99]\n",
            " [1.54 2.39 9.29]]\n"
          ]
        }
      ]
    },
    {
      "cell_type": "code",
      "source": [
        "import numpy as np\n",
        "\n",
        "# declare the array\n",
        "arr = np.array([[4, 2, np.nan, 1],\n",
        "                [11, 12, 14, 9],\n",
        "                [5, np.nan, 1, np.nan]])\n",
        "\n",
        "# find the missing data\n",
        "missing_data = np.isnan(arr)\n",
        "\n",
        "# print the Boolean output\n",
        "print(\"Missing data: \", missing_data)"
      ],
      "metadata": {
        "colab": {
          "base_uri": "https://localhost:8080/"
        },
        "id": "YvF2EOh4MD_p",
        "outputId": "f900b26c-9595-43bd-d125-f26bcadae3b9"
      },
      "execution_count": 15,
      "outputs": [
        {
          "output_type": "stream",
          "name": "stdout",
          "text": [
            "Missing data:  [[False False  True False]\n",
            " [False False False False]\n",
            " [False  True False  True]]\n"
          ]
        }
      ]
    }
  ]
}